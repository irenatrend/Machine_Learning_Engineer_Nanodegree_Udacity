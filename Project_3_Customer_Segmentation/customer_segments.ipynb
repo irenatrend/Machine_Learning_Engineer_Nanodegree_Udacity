{
 "cells": [
  {
   "cell_type": "markdown",
   "metadata": {},
   "source": [
    "# Creating Customer Segments"
   ]
  },
  {
   "cell_type": "markdown",
   "metadata": {},
   "source": [
    "In this project we will analyze a dataset containing annual spending amounts for internal structure, to understand the variation in the different types of customers that a wholesale distributor interacts with."
   ]
  },
  {
   "cell_type": "code",
   "execution_count": 54,
   "metadata": {
    "collapsed": false
   },
   "outputs": [
    {
     "name": "stdout",
     "output_type": "stream",
     "text": [
      "Dataset has 440 rows, 6 columns\n",
      "\n",
      "   Fresh  Milk  Grocery  Frozen  Detergents_Paper  Delicatessen\n",
      "0  12669  9656     7561     214              2674          1338\n",
      "1   7057  9810     9568    1762              3293          1776\n",
      "2   6353  8808     7684    2405              3516          7844\n",
      "3  13265  1196     4221    6404               507          1788\n",
      "4  22615  5410     7198    3915              1777          5185\n"
     ]
    }
   ],
   "source": [
    "# Import libraries: NumPy, pandas, matplotlib\n",
    "import numpy as np\n",
    "import pandas as pd\n",
    "import matplotlib.pyplot as plt\n",
    "\n",
    "# Tell iPython to include plots inline in the notebook\n",
    "%matplotlib inline\n",
    "\n",
    "# Read dataset\n",
    "data = pd.read_csv(\"wholesale-customers.csv\")\n",
    "print \"Dataset has {} rows, {} columns\".format(*data.shape)\n",
    "print\n",
    "print data.head()  # print the first 5 rows"
   ]
  },
  {
   "cell_type": "code",
   "execution_count": 55,
   "metadata": {
    "collapsed": false
   },
   "outputs": [
    {
     "name": "stdout",
     "output_type": "stream",
     "text": [
      "\n",
      "Basic statistics:\n",
      "               Fresh          Milk       Grocery        Frozen  \\\n",
      "count     440.000000    440.000000    440.000000    440.000000   \n",
      "mean    12000.297727   5796.265909   7951.277273   3071.931818   \n",
      "std     12647.328865   7380.377175   9503.162829   4854.673333   \n",
      "min         3.000000     55.000000      3.000000     25.000000   \n",
      "25%      3127.750000   1533.000000   2153.000000    742.250000   \n",
      "50%      8504.000000   3627.000000   4755.500000   1526.000000   \n",
      "75%     16933.750000   7190.250000  10655.750000   3554.250000   \n",
      "max    112151.000000  73498.000000  92780.000000  60869.000000   \n",
      "\n",
      "       Detergents_Paper  Delicatessen  \n",
      "count        440.000000    440.000000  \n",
      "mean        2881.493182   1524.870455  \n",
      "std         4767.854448   2820.105937  \n",
      "min            3.000000      3.000000  \n",
      "25%          256.750000    408.250000  \n",
      "50%          816.500000    965.500000  \n",
      "75%         3922.000000   1820.250000  \n",
      "max        40827.000000  47943.000000  \n"
     ]
    }
   ],
   "source": [
    "print \"\\nBasic statistics:\\n\", data.describe()"
   ]
  },
  {
   "cell_type": "markdown",
   "metadata": {},
   "source": [
    "## Feature Transformation"
   ]
  },
  {
   "cell_type": "markdown",
   "metadata": {},
   "source": [
    "**1) In this section you will be using PCA and ICA to start to understand the structure of the data. Before doing any computations, what do you think will show up in your computations? List one or two ideas for what might show up as the first PCA dimensions, or what type of vectors will show up as ICA dimensions.**"
   ]
  },
  {
   "cell_type": "markdown",
   "metadata": {},
   "source": [
    "**Answer:**\n",
    "\n",
    "PCA will use the features with higher variance to build the components. Given the descriptive statistics, the Fresh feature has the highest standard deviation (12647.329) and the largest range in values (min=3.0 and max= 112151.0). Based on the descriptive statistic we could expect Fresh, Grocery and Milk to be highly important for the first and the second PCA components.\n",
    "\n",
    "By definition the vectors that show up as ICA dimensions are independent. ICA focus on the independent factors. ICA needs features that best separate different types of customers according to their purchasing behaviors. Different types of customers (customer with similar purchasing behaviors, unique behaviors and large enough) will be identified as an independent component."
   ]
  },
  {
   "cell_type": "markdown",
   "metadata": {},
   "source": [
    "#### Helper Functions"
   ]
  },
  {
   "cell_type": "code",
   "execution_count": 56,
   "metadata": {
    "collapsed": false
   },
   "outputs": [],
   "source": [
    "def create_heatmap(components, columns):\n",
    "    import seaborn as sns\n",
    "    \n",
    "    data = pd.DataFrame(components, columns = list(columns))\n",
    "    \n",
    "    # Print the components and the amount of variance in the data contained in each dimension\n",
    "    # print data\n",
    "    \n",
    "    sns.heatmap(data,annot=True)   \n",
    "\n",
    "def create_clusters(reduced_data, n_clusters, clusterName): \n",
    "    \n",
    "    # TODO: Implement your clustering algorithm here, and fit it to the reduced data for visualization\n",
    "    # TODO: Find the centroids for KMeans or the cluster means for GMM \n",
    "    \n",
    "    if clusterName == 'KMeans':\n",
    "        clusters = KMeans(n_clusters)\n",
    "        clusters.fit(reduced_data)\n",
    "        centroids = clusters.cluster_centers_\n",
    "    \n",
    "    if clusterName == 'GMM':\n",
    "        clusters = GMM(n_components=n_clusters)\n",
    "        clusters.fit(reduced_data)\n",
    "        centroids = clusters.means_\n",
    "             \n",
    "    \n",
    "    print \"Clusters: \"\n",
    "    print clusters\n",
    "    \n",
    "    print \"Centroids: \"\n",
    "    print centroids\n",
    "    \n",
    "    bic = clusters.bic(reduced_data)\n",
    "    print \"BIC: {}\\n\".format(bic)\n",
    "    \n",
    "    \n",
    "    # Obtain labels for each point in mesh. Use last trained model.\n",
    "    Z = clusters.predict(np.c_[xx.ravel(), yy.ravel()])\n",
    "    Z = Z.reshape(xx.shape)\n",
    "    \n",
    "\n",
    "    show_plot(reduced_data, centroids, xx, yy, Z)\n",
    "    \n",
    "    return clusters\n",
    "    \n",
    "    \n",
    "# Put the result into a color plot\n",
    "def show_plot(reduced_data, centroids, xx, yy, Z):   \n",
    "    Z = Z.reshape(xx.shape)\n",
    "    plt.figure(1)\n",
    "    plt.clf()\n",
    "    plt.imshow(Z, interpolation='nearest',\n",
    "               extent=(xx.min(), xx.max(), yy.min(), yy.max()),\n",
    "               cmap=plt.cm.Paired,\n",
    "               aspect='auto', origin='lower')\n",
    "\n",
    "    plt.plot(reduced_data[:, 0], reduced_data[:, 1], 'k.', markersize=2)\n",
    "    plt.scatter(centroids[:, 0], centroids[:, 1],\n",
    "                marker='x', s=169, linewidths=3,\n",
    "                color='w', zorder=10)\n",
    "    \n",
    "    plt.title('Clustering on the wholesale grocery dataset (PCA-reduced data)\\n'\n",
    "              'Centroids are marked with white cross')\n",
    "    plt.xlim(x_min, x_max)\n",
    "    plt.ylim(y_min, y_max)\n",
    "    plt.xticks(())\n",
    "    plt.yticks(())\n",
    "    # plt.xlabel('Fresh')\n",
    "    # plt.ylabel('Non-Fresh')\n",
    "    plt.show()"
   ]
  },
  {
   "cell_type": "markdown",
   "metadata": {},
   "source": [
    "### PCA\n",
    "\n",
    "Definitions:\n",
    "* **PCA Components:** Principal axes in feature space, representing the directions of maximum variance in the data.\n",
    "* **PCA Explained Variance Ratio:** Percentage of variance explained by each of the selected components. If n_components is not set then all components are stored and the sum of explained variances is equal to 1.0"
   ]
  },
  {
   "cell_type": "code",
   "execution_count": 57,
   "metadata": {
    "collapsed": false
   },
   "outputs": [
    {
     "name": "stdout",
     "output_type": "stream",
     "text": [
      "\n",
      "PCA Explained Variance Ratio\n",
      "[ 0.45961362  0.40517227  0.07003008  0.04402344  0.01502212  0.00613848]\n"
     ]
    },
    {
     "data": {
      "image/png": "[encoded data removed]",
      "text/plain": [
       "<matplotlib.figure.Figure at 0x1271df90>"
      ]
     },
     "metadata": {},
     "output_type": "display_data"
    }
   ],
   "source": [
    "# TODO: Apply PCA with the same number of dimensions as variables in the dataset\n",
    "from sklearn.decomposition import PCA\n",
    "pca = PCA(n_components=len(data.columns))\n",
    "pca.fit(data)\n",
    "\n",
    "#PCA Components \n",
    "create_heatmap(pca.components_, data.columns)\n",
    "\n",
    "print \"\\nPCA Explained Variance Ratio\"\n",
    "print pca.explained_variance_ratio_\n",
    "\n",
    "# http://scikit-learn.org/stable/modules/generated/sklearn.decomposition.PCA.html"
   ]
  },
  {
   "cell_type": "markdown",
   "metadata": {},
   "source": [
    "**2)** **How quickly does the variance drop off by dimension? If you were to use PCA on this dataset, how many dimensions would you choose for your analysis? Why?**"
   ]
  },
  {
   "cell_type": "code",
   "execution_count": 58,
   "metadata": {
    "collapsed": false
   },
   "outputs": [
    {
     "data": {
      "image/png": "[encoded data removed]",
      "text/plain": [
       "<matplotlib.figure.Figure at 0x126f5bf0>"
      ]
     },
     "metadata": {},
     "output_type": "display_data"
    }
   ],
   "source": [
    "# Plot the PCA Explained Variance Ratio as function of PCA dimension number\n",
    "plt.plot(pca.explained_variance_ratio_, 'bo-') # 'bo-', 'r--', 'bs', 'g^', '-'\n",
    "\n",
    "plt.title('Explained Variance vs. PCA Dimension #')\n",
    "plt.xlabel('PCA Dimension #')\n",
    "plt.ylabel('Explained Variance')\n",
    "\n",
    "plt.show()"
   ]
  },
  {
   "cell_type": "markdown",
   "metadata": {
    "collapsed": true
   },
   "source": [
    "**Answer:** \n",
    "\n",
    "From the above plot, we can see the drop-off after the second principle component. The PCA's explained variance ratio drops of significantly after the second principle component/dimension. The first and second principle components explain 46% and 41% of the total variance, and the third principle component explains only 7% of the total variance.\n",
    "\n",
    "If I were to use PCA on this dataset for my analysis, based on the above numbers and insights, I would choose 2 dimensions. Using 2 dimensions only has an advantage for easy visualization, since 2 dimensional plots are more intuitive for people to understand."
   ]
  },
  {
   "cell_type": "markdown",
   "metadata": {},
   "source": [
    "**3)** **What do the dimensions seem to represent? How can you use this information?**"
   ]
  },
  {
   "cell_type": "code",
   "execution_count": 59,
   "metadata": {
    "collapsed": false
   },
   "outputs": [
    {
     "name": "stdout",
     "output_type": "stream",
     "text": [
      "[-0.97653685 -0.12118407 -0.06154039 -0.15236462  0.00705417 -0.06810471]\n",
      "[-0.11061386  0.51580216  0.76460638 -0.01872345  0.36535076  0.05707921]\n"
     ]
    }
   ],
   "source": [
    "first_pca = pca.components_[0]\n",
    "second_pca = pca.components_[1]\n",
    "\n",
    "print first_pca\n",
    "print second_pca\n"
   ]
  },
  {
   "cell_type": "markdown",
   "metadata": {
    "collapsed": true
   },
   "source": [
    "**Answer:** \n",
    "\n",
    "Each dimension represents one principal component. \n",
    "\n",
    "**First Principle Component:** Looking at the first principle component, we see the value corresponding to **Fresh is -0.9765** and all other values are much closer to 0. \n",
    "\n",
    "**Second Principle Component:** The second principle component (dimension) seems to represent a weighted combination of **Grocery (0.765)**, **Milk (0.516)**, and **Detergents Paper (0.365)**. This component explains the variations among the important products (except Fresh).\n",
    "\n",
    "From the analysis above, it seems we can determine our customer segments using just these two dimensions **(Fresh and Non-Fresh)**. Using the two principle components described above, we can run unsupervised clustering algorithms to discover customer segments."
   ]
  },
  {
   "cell_type": "markdown",
   "metadata": {},
   "source": [
    "### ICA"
   ]
  },
  {
   "cell_type": "code",
   "execution_count": 60,
   "metadata": {
    "collapsed": false
   },
   "outputs": [
    {
     "data": {
      "image/png": "[encoded data removed]",
      "text/plain": [
       "<matplotlib.figure.Figure at 0x1271dd90>"
      ]
     },
     "metadata": {},
     "output_type": "display_data"
    }
   ],
   "source": [
    "# TODO: Fit an ICA model to the data\n",
    "# Note: Adjust the data to have center at the origin first!\n",
    "from sklearn.decomposition import FastICA\n",
    "from sklearn.preprocessing import MinMaxScaler\n",
    "scaler = MinMaxScaler()\n",
    "centered_data = scaler.fit_transform(data)\n",
    "\n",
    "ica = FastICA(random_state=1)\n",
    "ica.fit_transform(centered_data)\n",
    "\n",
    "# Print the independent components\n",
    "# Sort ICA components by the Fresh feature (changing the Fresh vector to positive) and then sort by Fresh\n",
    "# Sorting will help to see that ICA is consistent among different runs\n",
    "\n",
    "\n",
    "create_heatmap(ica.components_, data.columns)"
   ]
  },
  {
   "cell_type": "markdown",
   "metadata": {},
   "source": [
    "**4)** **For each vector in the ICA decomposition, write a sentence or two explaining what sort of object or property it corresponds to. What could these components be used for?**"
   ]
  },
  {
   "cell_type": "markdown",
   "metadata": {
    "collapsed": true
   },
   "source": [
    "**Answer:** \n",
    "\n",
    "Since the ICA algorithm seems to be pretty consistent among different runs (because of the random_state argument here), we can conclude that there is some kind of customer behavior pattern. Each independent component is driven by one type of product with slightly or strong and negative or positive correlation with other products.  \n",
    "\n",
    "\n",
    "* **Independent Component 1:** an independent component of customers with a **strong negative correlation between Grocery** and **Detergents Paper**. Customer who buy much more Grocery and much less Detergents, or vice versa.\n",
    "\n",
    "* **Independent Component 2:** driven by the **Delicatessen** products spending. \n",
    "\n",
    "* **Independent Component 3:** driven by **Grocery** spending, **slightly negatively correlated with Milk**\n",
    "\n",
    "* **Independent Component 4:** driven prevalently by **Frozen** products with a **negative correlation to Delicatessen**. \n",
    "\n",
    "* **Independent Component 5:** driven by **Milk** spending **negatively correlated by Grocery** and **slightly negatively correlated with Delicatessen**\n",
    "\n",
    "* **Independent Component 6:** driven by the **Fresh** products. A customer with strongly spending on frozen products and average spending on all other products."
   ]
  },
  {
   "cell_type": "markdown",
   "metadata": {},
   "source": [
    "## Clustering\n",
    "\n",
    "In this section you will choose either K Means clustering or Gaussian Mixed Models clustering, which implements expectation-maximization. Then you will sample elements from the clusters to understand their significance."
   ]
  },
  {
   "cell_type": "markdown",
   "metadata": {},
   "source": [
    "### Choose a Cluster Type\n",
    "\n",
    "**5) What are the advantages of using K Means clustering or Gaussian Mixture Models?**"
   ]
  },
  {
   "cell_type": "markdown",
   "metadata": {},
   "source": [
    "**Answer:**\n",
    "\n",
    "###### K-Means\n",
    "* Hard clustering. Sharp decision boundaries. Each point always belongs to only one cluster (class).\n",
    "* Only provide information about which cluster a data point belongs to. \n",
    "* No information about the likelihood/probability of the data point belonging to said cluster\n",
    "* Fast way to perform clustering (in terms of computational time)\n",
    "* Strong sensitive to outliers\n",
    "* This algorithm will not always converge to the same final clusters. The final clusters will depend on the starting centroids. Run more times in order to find what could be the best cauterization.\n",
    "\n",
    "###### Gausian Mixture Models\n",
    "* Soft clustering\n",
    "* Provide information about which cluster a data point belongs to\n",
    "* Provide information about the likelihood/probability  of that a particular data point belongs to said cluster\n",
    "* Runs slower than K-Means (GMM requires more computation time)\n",
    "* Can calculate more complex decision boundaries compared to K-Means\n",
    "\n",
    "Since Gaussian Mixture Models can provide the probability that a particular data point belongs to the cluster and not only information about which cluster a data point belongs to compared to K-Means, and it can calculate more complex decision boundaries compared to K-Means, I think that the Gaussian Mixture Models will work better for our problem. I also want to note that in our case we have a small dataset so the computational power will not be an issue."
   ]
  },
  {
   "cell_type": "markdown",
   "metadata": {},
   "source": [
    "**6) Below is some starter code to help you visualize some cluster data. The visualization is based on [this demo](http://scikit-learn.org/stable/auto_examples/cluster/plot_kmeans_digits.html) from the sklearn documentation.**"
   ]
  },
  {
   "cell_type": "code",
   "execution_count": 61,
   "metadata": {
    "collapsed": true
   },
   "outputs": [],
   "source": [
    "# Import clustering modules\n",
    "from sklearn.cluster import KMeans\n",
    "from sklearn.mixture import GMM"
   ]
  },
  {
   "cell_type": "code",
   "execution_count": 62,
   "metadata": {
    "collapsed": false
   },
   "outputs": [
    {
     "name": "stdout",
     "output_type": "stream",
     "text": [
      "[[  -650.02212207   1585.51909007]\n",
      " [  4426.80497937   4042.45150884]\n",
      " [  4841.9987068    2578.762176  ]\n",
      " [  -990.34643689  -6279.80599663]\n",
      " [-10657.99873116  -2159.72581518]\n",
      " [  2765.96159271   -959.87072713]\n",
      " [   715.55089221  -2013.00226567]\n",
      " [  4474.58366697   1429.49697204]\n",
      " [  6712.09539718  -2205.90915598]\n",
      " [  4823.63435407  13480.55920489]]\n"
     ]
    }
   ],
   "source": [
    "# TODO: First we reduce the data to two dimensions using PCA to capture variation\n",
    "reduced_data = PCA(n_components=2).fit_transform(data)\n",
    "print reduced_data[:10]  # print upto 10 elements"
   ]
  },
  {
   "cell_type": "code",
   "execution_count": 63,
   "metadata": {
    "collapsed": false
   },
   "outputs": [],
   "source": [
    "# Plot the decision boundary by building a mesh grid to populate a graph.\n",
    "x_min, x_max = reduced_data[:, 0].min() - 1, reduced_data[:, 0].max() + 1\n",
    "y_min, y_max = reduced_data[:, 1].min() - 1, reduced_data[:, 1].max() + 1\n",
    "hx = (x_max-x_min)/1000.\n",
    "hy = (y_max-y_min)/1000.\n",
    "xx, yy = np.meshgrid(np.arange(x_min, x_max, hx), np.arange(y_min, y_max, hy))\n",
    "\n",
    "# meshgrid -- Return coordinate matrices from coordinate vectors."
   ]
  },
  {
   "cell_type": "code",
   "execution_count": 64,
   "metadata": {
    "collapsed": false
   },
   "outputs": [
    {
     "name": "stdout",
     "output_type": "stream",
     "text": [
      "Clusters: \n",
      "GMM(covariance_type='diag', init_params='wmc', min_covar=0.001,\n",
      "  n_components=3, n_init=1, n_iter=100, params='wmc', random_state=None,\n",
      "  thresh=None, tol=0.001, verbose=0)\n",
      "Centroids: \n",
      "[[   276.11243352  -6508.22600668]\n",
      " [  6986.10611001   4252.253209  ]\n",
      " [-17878.44951149  10108.28824429]]\n",
      "BIC: 18487.1070687\n",
      "\n"
     ]
    },
    {
     "data": {
      "image/png": "[encoded data removed]",
      "text/plain": [
       "<matplotlib.figure.Figure at 0x8e027f0>"
      ]
     },
     "metadata": {},
     "output_type": "display_data"
    },
    {
     "name": "stdout",
     "output_type": "stream",
     "text": [
      "Clusters: \n",
      "GMM(covariance_type='diag', init_params='wmc', min_covar=0.001,\n",
      "  n_components=5, n_init=1, n_iter=100, params='wmc', random_state=None,\n",
      "  thresh=None, tol=0.001, verbose=0)\n",
      "Centroids: \n",
      "[[ -9420.91328272  31861.39346964]\n",
      " [  6544.94645781  -6502.58522857]\n",
      " [  7220.96832617   6005.42357897]\n",
      " [-22244.41669326  -3543.27135452]\n",
      " [ -4816.58570619  -5806.24630226]]\n",
      "BIC: 18439.6065877\n",
      "\n"
     ]
    },
    {
     "data": {
      "image/png": "[encoded data removed]",
      "text/plain": [
       "<matplotlib.figure.Figure at 0x12cb3930>"
      ]
     },
     "metadata": {},
     "output_type": "display_data"
    },
    {
     "name": "stdout",
     "output_type": "stream",
     "text": [
      "Clusters: \n",
      "GMM(covariance_type='diag', init_params='wmc', min_covar=0.001,\n",
      "  n_components=4, n_init=1, n_iter=100, params='wmc', random_state=None,\n",
      "  thresh=None, tol=0.001, verbose=0)\n",
      "Centroids: \n",
      "[[-15372.37194307  -3334.43379857]\n",
      " [  7174.54719282   5469.02876453]\n",
      " [  2339.15204219  -6708.93065712]\n",
      " [ -9486.9742574   34645.20428228]]\n",
      "BIC: 18430.3971352\n",
      "\n"
     ]
    },
    {
     "data": {
      "image/png": "[encoded data removed]",
      "text/plain": [
       "<matplotlib.figure.Figure at 0x1285a210>"
      ]
     },
     "metadata": {},
     "output_type": "display_data"
    }
   ],
   "source": [
    "modelName = 'GMM' # 'KMeans'\n",
    "clusters = create_clusters(reduced_data, 3, modelName)\n",
    "clusters = create_clusters(reduced_data, 5, modelName)\n",
    "clusters = create_clusters(reduced_data, 4, modelName)"
   ]
  },
  {
   "cell_type": "code",
   "execution_count": 65,
   "metadata": {
    "collapsed": false
   },
   "outputs": [
    {
     "name": "stdout",
     "output_type": "stream",
     "text": [
      "Cluster 0:\n",
      "     Fresh   Milk  Grocery  Frozen  Detergents_Paper  Delicatessen\n",
      "22   31276   1917     4469    9408              2381          4334\n",
      "36   29955   4362     5428    1729               862          4626\n",
      "325  32717  16784    13626   60869              1272          5609\n",
      "373  15076   6257     7398    1504              1916          3113\n",
      "436  39228   1431      764    4510                93          2346\n",
      "\n",
      "Cluster 1:\n",
      "     Fresh   Milk  Grocery  Frozen  Detergents_Paper  Delicatessen\n",
      "94    5626  12220    11323     206              5038           244\n",
      "96      23   2616     8118     145              3874           217\n",
      "221   5396   7503    10646      91              4167           239\n",
      "223   2790   2527     5265    5612               788          1360\n",
      "254  10379  17972     4748    4686              1547          3265\n",
      "\n",
      "Cluster 2:\n",
      "     Fresh  Milk  Grocery  Frozen  Detergents_Paper  Delicatessen\n",
      "134   7388  1882     2174     720                47           537\n",
      "186   3009   521      854    3470               949           727\n",
      "350   3521  1099     1997    1796               173           995\n",
      "387  20918  1916     1573    1960               231           961\n",
      "402  26539  4753     5091     220                10           340\n",
      "\n",
      "Cluster 3:\n",
      "     Fresh   Milk  Grocery  Frozen  Detergents_Paper  Delicatessen\n",
      "65      85  20959    45828      36             24231          1423\n",
      "86   22925  73498    32114     987             20070           903\n",
      "92    9198  27472    32034    3232             18906          5130\n",
      "165  15615  12653    19858    4425              7108          2379\n",
      "251   6134  23133    33586    6746             18594          5121\n",
      "\n"
     ]
    }
   ],
   "source": [
    "Z = clusters.predict(reduced_data)\n",
    "def sample_data(Z, label):\n",
    "    cluster_samples = np.where(Z == label)[0]\n",
    "    cluster_samples = np.random.choice(cluster_samples, replace=False, size=5)\n",
    "    \n",
    "    samples = cluster_samples.tolist()\n",
    "    samples.sort()\n",
    "    \n",
    "    return data.iloc[samples, :]\n",
    "\n",
    "for i in range(4):\n",
    "    print \"Cluster {}:\\n{}\\n\".format(i, sample_data(Z, i))"
   ]
  },
  {
   "cell_type": "markdown",
   "metadata": {},
   "source": [
    "5 or 10 Sampels were not enough for me to make conslusion. So, I deceided to check the mean values of all data points so I can get more insights and make valuable conclusions. "
   ]
  },
  {
   "cell_type": "code",
   "execution_count": 66,
   "metadata": {
    "collapsed": false
   },
   "outputs": [
    {
     "name": "stdout",
     "output_type": "stream",
     "text": [
      "\n",
      "******** Cluster 0 Mean ********\n",
      "Fresh               32527.764706\n",
      "Milk                 5569.102941\n",
      "Grocery              7539.838235\n",
      "Frozen               5378.044118\n",
      "Detergents_Paper     1685.500000\n",
      "Delicatessen         2350.205882\n",
      "dtype: float64\n",
      "\n",
      "******** Cluster 1 Mean ********\n",
      "Fresh                4393.328671\n",
      "Milk                 8573.510490\n",
      "Grocery             12364.937063\n",
      "Frozen               1803.139860\n",
      "Detergents_Paper     5123.552448\n",
      "Delicatessen         1423.433566\n",
      "dtype: float64\n",
      "\n",
      "******** Cluster 2 Mean ********\n",
      "Fresh               10142.481132\n",
      "Milk                 2133.806604\n",
      "Grocery              2548.066038\n",
      "Frozen               3065.603774\n",
      "Detergents_Paper      506.438679\n",
      "Delicatessen          959.080189\n",
      "dtype: float64\n",
      "\n",
      "******** Cluster 3 Mean ********\n",
      "Fresh               17046.529412\n",
      "Milk                29016.411765\n",
      "Grocery             39851.588235\n",
      "Frozen               4599.176471\n",
      "Detergents_Paper    18424.117647\n",
      "Delicatessen         6132.529412\n",
      "dtype: float64\n"
     ]
    }
   ],
   "source": [
    "def get_pop(Z, label):\n",
    "    cluster_samples = np.where(Z == label)[0]\n",
    "    samples = cluster_samples.tolist()\n",
    "    \n",
    "    return data.iloc[samples, :]\n",
    "\n",
    "for i in range(4):\n",
    "    pop = get_pop(Z, i)\n",
    "    mean = pop.mean()\n",
    "    print \"\\n******** Cluster {} Mean ********\".format(i)\n",
    "    print mean\n"
   ]
  },
  {
   "cell_type": "markdown",
   "metadata": {},
   "source": [
    "**7 What are the central objects in each cluster? Describe them as customers.**"
   ]
  },
  {
   "cell_type": "markdown",
   "metadata": {
    "collapsed": true
   },
   "source": [
    "**Answer:** \n",
    "\n",
    "The central objects in each cluster are the centroids. They represent an average customer within that cluster. Based on the PCA analysis the first component was responsible for Fresh variable, and the second component was the linear combination of mostly three features: Milk, Grocery and Detergents (Non-Fresh).\n",
    "\n",
    "I liked the way how the cluster was separating the customers with soft boundaries (GMM). I was not able to get those boundaries with K-means. Also mean values gave me more meaningful values about each cluster. \n",
    "\n",
    "In statistics, the Bayesian information criterion (BIC) is a criterion for model selection among a finite set of models. The model with the lowest BIC is preferred (the lower the better). If we compare the BIC values for our model with 3, 4 and 5 clusters, we can see that in case of 4 clusters the BIC is the lowest.\n",
    "\n",
    "* 3 clusters BIC=**18486.9452649** \n",
    "* 4 clusters BIC=**18430.3971352** \n",
    "* 5 clusters BIC=**18439.6065877**\n",
    "\n",
    "So my final choice was GMM with 4 clusters.\n",
    "\n",
    "\n",
    "**Type of Customers:**\n",
    "\n",
    "* **Cluster 0: Important customers who spend a lot on Fresh Food.**  Customers interested in Fresh products. Small amount. These could be considered as important (loyal) customers interested in Fresh products.\n",
    "\n",
    "* **Cluster 1: Small Grocery Stores.** Sales more groceries than other types of products, but it does not sell as many groceries as Cluster 3. \n",
    "\n",
    "* **Cluster 2: Restaurants. Salad Bars.** Customers interested in Fresh products. Big Amount. Possibly restaurants because of low Grocery Milk and Detergents values and a big range of Fresh values.\n",
    "\n",
    "* **Cluster 3: Chain supermarkets.** These customer have significant spending. It looks like they sell a lot of everything. \n"
   ]
  },
  {
   "cell_type": "markdown",
   "metadata": {},
   "source": [
    "### Conclusions\n",
    "\n",
    "** 8) Which of these techniques did you feel gave you the most insight into the data?**"
   ]
  },
  {
   "cell_type": "markdown",
   "metadata": {
    "collapsed": true
   },
   "source": [
    "**Answer:**\n",
    "\n",
    "##### PCA and ICA (valuable insights: what most people buy; similar buying patterns)\n",
    "PCA and ICA gave me different valuable insights. By using PCA we understand what people are interested in (what most people buy). This is important and useful and it gives us the direction to look at. But we still can't find the reason why there are unexpected customers complaints. ICA gives us the power to analyze independent customer segments and their behaviors. ICA is helpful in understanding the potential group of independent customers. Customer with similar buying patterns. \n",
    "\n",
    "##### Feature reduction\n",
    "Using PCA for feature reduction is really useful, it allows us to display our data even if the data is of high dimensionality. The variance in the data being quite important, PCA resulted in being powerful approach to be able to limit the number of dimensions used. Using PCA and ICA, we get deeper understanding of the data.\n",
    "\n",
    "\n",
    "##### Plotting\n",
    "Plotting all values was really helpful. Plotting the output of the cluster models algorithm gave me the most insight into the data. The plot using GMM clustering made more intuitive sense, in terms of valid clustering decision boundaries. "
   ]
  },
  {
   "cell_type": "markdown",
   "metadata": {
    "collapsed": true
   },
   "source": [
    "**9) How would you use that technique to help the company design new experiments?**"
   ]
  },
  {
   "cell_type": "markdown",
   "metadata": {},
   "source": [
    "**Answer:** \n",
    "\n",
    "We can use small samples of customers from each cluster when conducting a new experiment on a possible change. That way we can see how each of the clusters would react to the change. If the sample from a cluster liked the change, we could implement the change for all members of the cluster.\n",
    "\n",
    "To test the effects of changing from regular morning delivery to bulk evening delivery, the company can run A/B tests on each customer segments separately. The company can test how each customer type react on the time delivery change (regular morning delivery to a cheaper bulk evening delivery).\n",
    "\n",
    "If the change went well for the sample from a particular cluster, it would make sense to consider implementing the change for all the members of that cluster. If the change didn't go well for the sample from a particular cluster, it would make sense to not implement the change for the members of that cluster."
   ]
  },
  {
   "cell_type": "markdown",
   "metadata": {},
   "source": [
    "**10) How would you use that data to help you predict future customer needs?**"
   ]
  },
  {
   "cell_type": "markdown",
   "metadata": {},
   "source": [
    "**Answer:** \n",
    "\n",
    "By knowing the different customer groups (clusters) the business can better tailor its services to individual customer segments without necessarily combine them all to the same group as one. Using the GMM or KMeans model we can label each new customer. That way we can predict what will work best for each new customer. What type of products, delivery time and other policies they will likely to have. Supervised learning techniques such as classification could assign new customers to the already known clusters to better understand their needs and provide better targeted services to them."
   ]
  }
 ],
 "metadata": {
  "kernelspec": {
   "display_name": "Python 2",
   "language": "python",
   "name": "python2"
  },
  "language_info": {
   "codemirror_mode": {
    "name": "ipython",
    "version": 2
   },
   "file_extension": ".py",
   "mimetype": "text/x-python",
   "name": "python",
   "nbconvert_exporter": "python",
   "pygments_lexer": "ipython2",
   "version": "2.7.10"
  }
 },
 "nbformat": 4,
 "nbformat_minor": 0
}
